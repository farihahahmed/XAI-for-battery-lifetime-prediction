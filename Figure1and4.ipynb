{
 "cells": [
  {
   "cell_type": "markdown",
   "metadata": {},
   "source": [
    "# Loading Data"
   ]
  },
  {
   "cell_type": "code",
   "execution_count": 1,
   "metadata": {},
   "outputs": [],
   "source": [
    "import numpy as np\n",
    "import matplotlib.pyplot as plt\n",
    "import pickle\n",
    "from statistics import mean"
   ]
  },
  {
   "cell_type": "code",
   "execution_count": 2,
   "metadata": {},
   "outputs": [],
   "source": [
    "batch1 = pickle.load(open(r'batch1.pkl', 'rb'))\n",
    "#remove batteries that do not reach 80% capacity\n",
    "del batch1['b1c8']\n",
    "del batch1['b1c10']\n",
    "del batch1['b1c12']\n",
    "del batch1['b1c13']\n",
    "del batch1['b1c22']"
   ]
  },
  {
   "cell_type": "code",
   "execution_count": 3,
   "metadata": {},
   "outputs": [
    {
     "data": {
      "text/plain": [
       "41"
      ]
     },
     "execution_count": 3,
     "metadata": {},
     "output_type": "execute_result"
    }
   ],
   "source": [
    "numBat1 = len(batch1.keys())\n",
    "numBat1"
   ]
  },
  {
   "cell_type": "code",
   "execution_count": 4,
   "metadata": {},
   "outputs": [],
   "source": [
    "batch2 = pickle.load(open(r'batch2.pkl','rb'))"
   ]
  },
  {
   "cell_type": "code",
   "execution_count": 5,
   "metadata": {},
   "outputs": [],
   "source": [
    "# There are four cells from batch1 that carried into batch2, we'll remove the data from batch2\n",
    "# and put it with the correct cell from batch1\n",
    "batch2_keys = ['b2c7', 'b2c8', 'b2c9', 'b2c15', 'b2c16']\n",
    "batch1_keys = ['b1c0', 'b1c1', 'b1c2', 'b1c3', 'b1c4']\n",
    "add_len = [662, 981, 1060, 208, 482];"
   ]
  },
  {
   "cell_type": "code",
   "execution_count": 6,
   "metadata": {},
   "outputs": [],
   "source": [
    "for i, bk in enumerate(batch1_keys):\n",
    "    batch1[bk]['cycle_life'] = batch1[bk]['cycle_life'] + add_len[i]\n",
    "    for j in batch1[bk]['summary'].keys():\n",
    "        if j == 'cycle':\n",
    "            batch1[bk]['summary'][j] = np.hstack((batch1[bk]['summary'][j], batch2[batch2_keys[i]]['summary'][j] + len(batch1[bk]['summary'][j])))\n",
    "        else:\n",
    "            batch1[bk]['summary'][j] = np.hstack((batch1[bk]['summary'][j], batch2[batch2_keys[i]]['summary'][j]))\n",
    "    last_cycle = len(batch1[bk]['cycles'].keys())\n",
    "    for j, jk in enumerate(batch2[batch2_keys[i]]['cycles'].keys()):\n",
    "        batch1[bk]['cycles'][str(last_cycle + j)] = batch2[batch2_keys[i]]['cycles'][jk]"
   ]
  },
  {
   "cell_type": "code",
   "execution_count": 7,
   "metadata": {},
   "outputs": [],
   "source": [
    "del batch2['b2c7']\n",
    "del batch2['b2c8']\n",
    "del batch2['b2c9']\n",
    "del batch2['b2c15']\n",
    "del batch2['b2c16']"
   ]
  },
  {
   "cell_type": "code",
   "execution_count": 8,
   "metadata": {},
   "outputs": [
    {
     "data": {
      "text/plain": [
       "43"
      ]
     },
     "execution_count": 8,
     "metadata": {},
     "output_type": "execute_result"
    }
   ],
   "source": [
    "numBat2 = len(batch2.keys())\n",
    "numBat2"
   ]
  },
  {
   "cell_type": "code",
   "execution_count": 9,
   "metadata": {},
   "outputs": [],
   "source": [
    "batch3 = pickle.load(open(r'batch3.pkl','rb'))\n",
    "# remove noisy channels from batch3\n",
    "del batch3['b3c37']\n",
    "del batch3['b3c2']\n",
    "del batch3['b3c23']\n",
    "del batch3['b3c32']\n",
    "del batch3['b3c42']\n",
    "del batch3['b3c43']"
   ]
  },
  {
   "cell_type": "code",
   "execution_count": 10,
   "metadata": {},
   "outputs": [
    {
     "data": {
      "text/plain": [
       "40"
      ]
     },
     "execution_count": 10,
     "metadata": {},
     "output_type": "execute_result"
    }
   ],
   "source": [
    "numBat3 = len(batch3.keys())\n",
    "numBat3"
   ]
  },
  {
   "cell_type": "code",
   "execution_count": 11,
   "metadata": {},
   "outputs": [
    {
     "data": {
      "text/plain": [
       "124"
      ]
     },
     "execution_count": 11,
     "metadata": {},
     "output_type": "execute_result"
    }
   ],
   "source": [
    "numBat = numBat1 + numBat2 + numBat3\n",
    "numBat"
   ]
  },
  {
   "cell_type": "code",
   "execution_count": 12,
   "metadata": {},
   "outputs": [],
   "source": [
    "bat_dict = {**batch1, **batch2, **batch3}"
   ]
  },
  {
   "cell_type": "code",
   "execution_count": 13,
   "metadata": {},
   "outputs": [
    {
     "name": "stdout",
     "output_type": "stream",
     "text": [
      "b1c0\n",
      "b1c1\n",
      "b1c2\n",
      "b1c3\n",
      "b1c4\n",
      "b1c5\n",
      "b1c6\n",
      "b1c7\n",
      "b1c9\n",
      "b1c11\n",
      "b1c14\n",
      "b1c15\n",
      "b1c16\n",
      "b1c17\n",
      "b1c18\n",
      "b1c19\n",
      "b1c20\n",
      "b1c21\n",
      "b1c23\n",
      "b1c24\n",
      "b1c25\n",
      "b1c26\n",
      "b1c27\n",
      "b1c28\n",
      "b1c29\n",
      "b1c30\n",
      "b1c31\n",
      "b1c32\n",
      "b1c33\n",
      "b1c34\n",
      "b1c35\n",
      "b1c36\n",
      "b1c37\n",
      "b1c38\n",
      "b1c39\n",
      "b1c40\n",
      "b1c41\n",
      "b1c42\n",
      "b1c43\n",
      "b1c44\n",
      "b1c45\n",
      "b2c0\n",
      "b2c1\n",
      "b2c2\n",
      "b2c3\n",
      "b2c4\n",
      "b2c5\n",
      "b2c6\n",
      "b2c10\n",
      "b2c11\n",
      "b2c12\n",
      "b2c13\n",
      "b2c14\n",
      "b2c17\n",
      "b2c18\n",
      "b2c19\n",
      "b2c20\n",
      "b2c21\n",
      "b2c22\n",
      "b2c23\n",
      "b2c24\n",
      "b2c25\n",
      "b2c26\n",
      "b2c27\n",
      "b2c28\n",
      "b2c29\n",
      "b2c30\n",
      "b2c31\n",
      "b2c32\n",
      "b2c33\n",
      "b2c34\n",
      "b2c35\n",
      "b2c36\n",
      "b2c37\n",
      "b2c38\n",
      "b2c39\n",
      "b2c40\n",
      "b2c41\n",
      "b2c42\n",
      "b2c43\n",
      "b2c44\n",
      "b2c45\n",
      "b2c46\n",
      "b2c47\n",
      "b3c0\n",
      "b3c1\n",
      "b3c3\n",
      "b3c4\n",
      "b3c5\n",
      "b3c6\n",
      "b3c7\n",
      "b3c8\n",
      "b3c9\n",
      "b3c10\n",
      "b3c11\n",
      "b3c12\n",
      "b3c13\n",
      "b3c14\n",
      "b3c15\n",
      "b3c16\n",
      "b3c17\n",
      "b3c18\n",
      "b3c19\n",
      "b3c20\n",
      "b3c21\n",
      "b3c22\n",
      "b3c24\n",
      "b3c25\n",
      "b3c26\n",
      "b3c27\n",
      "b3c28\n",
      "b3c29\n",
      "b3c30\n",
      "b3c31\n",
      "b3c33\n",
      "b3c34\n",
      "b3c35\n",
      "b3c36\n",
      "b3c38\n",
      "b3c39\n",
      "b3c40\n",
      "b3c41\n",
      "b3c44\n",
      "b3c45\n"
     ]
    }
   ],
   "source": [
    "for i in bat_dict.keys():\n",
    "    print(i)"
   ]
  },
  {
   "cell_type": "markdown",
   "metadata": {},
   "source": [
    "# Getting all the features"
   ]
  },
  {
   "cell_type": "code",
   "execution_count": 14,
   "metadata": {},
   "outputs": [],
   "source": [
    "from scipy.stats import skew, kurtosis\n",
    "from sklearn.linear_model import LinearRegression\n",
    "import pandas as pd\n",
    "import numpy as np"
   ]
  },
  {
   "cell_type": "code",
   "execution_count": 15,
   "metadata": {},
   "outputs": [],
   "source": [
    "features_df = pd.DataFrame()"
   ]
  },
  {
   "cell_type": "code",
   "execution_count": 16,
   "metadata": {},
   "outputs": [],
   "source": [
    "minimum_dQ_100_10 = np.zeros(len(bat_dict.keys()))\n",
    "variance_dQ_100_10 = np.zeros(len(bat_dict.keys()))\n",
    "skewness_dQ_100_10 = np.zeros(len(bat_dict.keys()))\n",
    "kurtosis_dQ_100_10 = np.zeros(len(bat_dict.keys()))\n",
    "\n",
    "for i, cell in enumerate(bat_dict.values()):\n",
    "    c10 = cell['cycles']['10']\n",
    "    c100 = cell['cycles']['100']\n",
    "    dQ_100_10 = c100['Qdlin'] - c10['Qdlin']\n",
    "    \n",
    "    minimum_dQ_100_10[i] = np.log(np.abs(np.min(dQ_100_10)))\n",
    "    variance_dQ_100_10[i] = np.log(np.var(dQ_100_10))\n",
    "    skewness_dQ_100_10[i] = np.log(np.abs(skew(dQ_100_10)))\n",
    "    kurtosis_dQ_100_10[i] = np.log(np.abs(kurtosis(dQ_100_10)))\n",
    "\n",
    "features_df[\"minimum_dQ_100_10\"] = minimum_dQ_100_10\n",
    "features_df[\"variance_dQ_100_10\"] = variance_dQ_100_10\n",
    "features_df[\"skewness_dQ_100_10\"] = skewness_dQ_100_10\n",
    "features_df[\"kurtosis_dQ_100_10\"] = kurtosis_dQ_100_10\n",
    "\n",
    "\n",
    "slope_lin_fit_2_100 = np.zeros(len(bat_dict.keys()))\n",
    "intercept_lin_fit_2_100 = np.zeros(len(bat_dict.keys()))\n",
    "discharge_capacity_2 = np.zeros(len(bat_dict.keys()))\n",
    "diff_discharge_capacity_max_2 = np.zeros(len(bat_dict.keys()))\n",
    "\n",
    "for i, cell in enumerate(bat_dict.values()):\n",
    "    # Compute linear fit for cycles 2 to 100:\n",
    "    q = cell['summary']['QD'][1:100].reshape(-1, 1)  # discharge cappacities; q.shape = (99, 1); \n",
    "    X = cycle_numbers = cell['summary']['cycle'][1:100].reshape(-1, 1)  # Cylce index from 2 to 100; X.shape = (99, 1)\n",
    "    \n",
    "    linear_regressor_2_100 = LinearRegression()\n",
    "    linear_regressor_2_100.fit(X, q)\n",
    "    \n",
    "    slope_lin_fit_2_100[i] = linear_regressor_2_100.coef_[0]\n",
    "    intercept_lin_fit_2_100[i] = linear_regressor_2_100.intercept_\n",
    "    discharge_capacity_2[i] = q[0][0]\n",
    "    diff_discharge_capacity_max_2[i] = np.max(q) - q[0][0]\n",
    "    \n",
    "features_df[\"slope_lin_fit_2_100\"] = slope_lin_fit_2_100\n",
    "features_df[\"intercept_lin_fit_2_100\"] = intercept_lin_fit_2_100\n",
    "features_df[\"discharge_capacity_2\"] = discharge_capacity_2\n",
    "features_df[\"diff_discharge_capacity_max_2\"] = diff_discharge_capacity_max_2\n",
    "\n",
    "mean_charge_time = np.zeros(len(bat_dict.keys()))\n",
    "minimum_IR = np.zeros(len(bat_dict.keys()))\n",
    "diff_IR_100_2 = np.zeros(len(bat_dict.keys()))\n",
    "\n",
    "\n",
    "for i, cell in enumerate(bat_dict.values()):\n",
    "    mean_charge_time[i] = np.mean(cell['summary']['chargetime'][1:6])\n",
    "    minimum_IR[i] = np.min(cell['summary']['IR'][1:100])\n",
    "    diff_IR_100_2[i] = cell['summary']['IR'][100] - cell['summary']['IR'][1]\n",
    "    \n",
    "features_df[\"mean_charge_time\"] = mean_charge_time\n",
    "features_df[\"minimum_IR\"] = minimum_IR\n",
    "features_df[\"diff_IR_100_2\"] = diff_IR_100_2"
   ]
  },
  {
   "cell_type": "code",
   "execution_count": 33,
   "metadata": {},
   "outputs": [
    {
     "data": {
      "text/html": [
       "<div>\n",
       "<style scoped>\n",
       "    .dataframe tbody tr th:only-of-type {\n",
       "        vertical-align: middle;\n",
       "    }\n",
       "\n",
       "    .dataframe tbody tr th {\n",
       "        vertical-align: top;\n",
       "    }\n",
       "\n",
       "    .dataframe thead th {\n",
       "        text-align: right;\n",
       "    }\n",
       "</style>\n",
       "<table border=\"1\" class=\"dataframe\">\n",
       "  <thead>\n",
       "    <tr style=\"text-align: right;\">\n",
       "      <th></th>\n",
       "      <th>minimum_dQ_100_10</th>\n",
       "      <th>variance_dQ_100_10</th>\n",
       "      <th>skewness_dQ_100_10</th>\n",
       "      <th>kurtosis_dQ_100_10</th>\n",
       "      <th>slope_lin_fit_2_100</th>\n",
       "      <th>intercept_lin_fit_2_100</th>\n",
       "      <th>discharge_capacity_2</th>\n",
       "      <th>diff_discharge_capacity_max_2</th>\n",
       "      <th>mean_charge_time</th>\n",
       "      <th>minimum_IR</th>\n",
       "      <th>diff_IR_100_2</th>\n",
       "    </tr>\n",
       "  </thead>\n",
       "  <tbody>\n",
       "    <tr>\n",
       "      <th>119</th>\n",
       "      <td>-4.031907</td>\n",
       "      <td>-10.230704</td>\n",
       "      <td>-1.208466</td>\n",
       "      <td>0.058160</td>\n",
       "      <td>-6.583238e-06</td>\n",
       "      <td>1.050919</td>\n",
       "      <td>1.047404</td>\n",
       "      <td>0.004107</td>\n",
       "      <td>10.043833</td>\n",
       "      <td>0.015481</td>\n",
       "      <td>-0.000166</td>\n",
       "    </tr>\n",
       "    <tr>\n",
       "      <th>120</th>\n",
       "      <td>-3.811628</td>\n",
       "      <td>-9.923463</td>\n",
       "      <td>-1.105337</td>\n",
       "      <td>0.051614</td>\n",
       "      <td>-7.692147e-06</td>\n",
       "      <td>1.063392</td>\n",
       "      <td>1.059324</td>\n",
       "      <td>0.004510</td>\n",
       "      <td>10.043563</td>\n",
       "      <td>0.015255</td>\n",
       "      <td>-0.000226</td>\n",
       "    </tr>\n",
       "    <tr>\n",
       "      <th>121</th>\n",
       "      <td>-3.704429</td>\n",
       "      <td>-9.669360</td>\n",
       "      <td>-1.177819</td>\n",
       "      <td>0.092749</td>\n",
       "      <td>9.732245e-06</td>\n",
       "      <td>1.053878</td>\n",
       "      <td>1.050522</td>\n",
       "      <td>0.004362</td>\n",
       "      <td>10.042974</td>\n",
       "      <td>0.017007</td>\n",
       "      <td>-0.000173</td>\n",
       "    </tr>\n",
       "    <tr>\n",
       "      <th>122</th>\n",
       "      <td>-3.648796</td>\n",
       "      <td>-9.516770</td>\n",
       "      <td>-1.531814</td>\n",
       "      <td>0.207631</td>\n",
       "      <td>4.689737e-06</td>\n",
       "      <td>1.073078</td>\n",
       "      <td>1.069720</td>\n",
       "      <td>0.004185</td>\n",
       "      <td>10.043436</td>\n",
       "      <td>0.015517</td>\n",
       "      <td>-0.000107</td>\n",
       "    </tr>\n",
       "    <tr>\n",
       "      <th>123</th>\n",
       "      <td>-4.078264</td>\n",
       "      <td>-10.374099</td>\n",
       "      <td>-1.137084</td>\n",
       "      <td>0.158926</td>\n",
       "      <td>-1.258454e-07</td>\n",
       "      <td>1.071472</td>\n",
       "      <td>1.069549</td>\n",
       "      <td>0.002596</td>\n",
       "      <td>11.037650</td>\n",
       "      <td>0.015557</td>\n",
       "      <td>-0.000081</td>\n",
       "    </tr>\n",
       "  </tbody>\n",
       "</table>\n",
       "</div>"
      ],
      "text/plain": [
       "     minimum_dQ_100_10  variance_dQ_100_10  skewness_dQ_100_10  \\\n",
       "119          -4.031907          -10.230704           -1.208466   \n",
       "120          -3.811628           -9.923463           -1.105337   \n",
       "121          -3.704429           -9.669360           -1.177819   \n",
       "122          -3.648796           -9.516770           -1.531814   \n",
       "123          -4.078264          -10.374099           -1.137084   \n",
       "\n",
       "     kurtosis_dQ_100_10  slope_lin_fit_2_100  intercept_lin_fit_2_100  \\\n",
       "119            0.058160        -6.583238e-06                 1.050919   \n",
       "120            0.051614        -7.692147e-06                 1.063392   \n",
       "121            0.092749         9.732245e-06                 1.053878   \n",
       "122            0.207631         4.689737e-06                 1.073078   \n",
       "123            0.158926        -1.258454e-07                 1.071472   \n",
       "\n",
       "     discharge_capacity_2  diff_discharge_capacity_max_2  mean_charge_time  \\\n",
       "119              1.047404                       0.004107         10.043833   \n",
       "120              1.059324                       0.004510         10.043563   \n",
       "121              1.050522                       0.004362         10.042974   \n",
       "122              1.069720                       0.004185         10.043436   \n",
       "123              1.069549                       0.002596         11.037650   \n",
       "\n",
       "     minimum_IR  diff_IR_100_2  \n",
       "119    0.015481      -0.000166  \n",
       "120    0.015255      -0.000226  \n",
       "121    0.017007      -0.000173  \n",
       "122    0.015517      -0.000107  \n",
       "123    0.015557      -0.000081  "
      ]
     },
     "execution_count": 33,
     "metadata": {},
     "output_type": "execute_result"
    }
   ],
   "source": [
    "features_df.tail()"
   ]
  },
  {
   "cell_type": "code",
   "execution_count": 18,
   "metadata": {},
   "outputs": [
    {
     "data": {
      "text/plain": [
       "(124, 11)"
      ]
     },
     "execution_count": 18,
     "metadata": {},
     "output_type": "execute_result"
    }
   ],
   "source": [
    "features_df.shape"
   ]
  },
  {
   "cell_type": "code",
   "execution_count": 19,
   "metadata": {},
   "outputs": [],
   "source": [
    "cols = features_df.columns"
   ]
  },
  {
   "cell_type": "markdown",
   "metadata": {},
   "source": [
    "# Figure 1"
   ]
  },
  {
   "cell_type": "code",
   "execution_count": 30,
   "metadata": {},
   "outputs": [],
   "source": [
    "import matplotlib.pyplot as plt\n",
    "\n",
    "from mpl_toolkits.mplot3d import Axes3D\n",
    "\n",
    "import numpy as np"
   ]
  },
  {
   "cell_type": "code",
   "execution_count": 73,
   "metadata": {},
   "outputs": [
    {
     "data": {
      "image/png": "[encoded data removed]",
      "text/plain": [
       "<Figure size 720x720 with 1 Axes>"
      ]
     },
     "metadata": {
      "needs_background": "light"
     },
     "output_type": "display_data"
    }
   ],
   "source": [
    "minimum = np.array(features_df['minimum_dQ_100_10'][:99])\n",
    "\n",
    "variance = np.array(features_df['variance_dQ_100_10'][:99])\n",
    "\n",
    "skewness = np.array(features_df['skewness_dQ_100_10'][:99])\n",
    "\n",
    "fig = plt.figure(figsize=(10,10))\n",
    "\n",
    "ax = fig.add_subplot(111, projection='3d')\n",
    "\n",
    "ax.scatter(xs = minimum, ys = variance, zs = skewness, s=20)\n",
    "\n",
    "ax.set_title(\"Mathematical visualization of XAI model\")\n",
    "\n",
    "ax.set_xlabel(\"Minimum of deltaQ100-10(V)\")\n",
    "\n",
    "ax.set_ylabel(\"Variance of deltaQ100-10(V)\")\n",
    "\n",
    "ax.set_zlabel(\"Skewness of deltaQ100-10(V)\")\n",
    "\n",
    "ax.scatter(features_df['minimum_dQ_100_10'][100], features_df['variance_dQ_100_10'][100], features_df['skewness_dQ_100_10'][100], marker='x', c='red', s=40)\n",
    "ax.scatter(features_df['minimum_dQ_100_10'][92], features_df['variance_dQ_100_10'][92], features_df['skewness_dQ_100_10'][92], c='purple', s=40)\n",
    "ax.scatter(features_df['minimum_dQ_100_10'][12], features_df['variance_dQ_100_10'][12], features_df['skewness_dQ_100_10'][12], c='purple', s=40)\n",
    "ax.scatter(features_df['minimum_dQ_100_10'][5], features_df['variance_dQ_100_10'][5], features_df['skewness_dQ_100_10'][5], c='purple', s=40)\n",
    "\n",
    "plt.show()"
   ]
  },
  {
   "cell_type": "code",
   "execution_count": 16,
   "metadata": {},
   "outputs": [],
   "source": [
    "ax.set_xlim(100,200)\n",
    "\n",
    "ax.set_ylim(20,160)\n",
    "\n",
    "ax.set_zlim(5,35)\n",
    "\n",
    "plt.show()"
   ]
  },
  {
   "cell_type": "code",
   "execution_count": 17,
   "metadata": {},
   "outputs": [],
   "source": [
    "ax.set_xticks([100,125,150,175,200])\n",
    "\n",
    "plt.show()"
   ]
  },
  {
   "cell_type": "code",
   "execution_count": 18,
   "metadata": {},
   "outputs": [],
   "source": [
    "fig.set_size_inches(6, 6)\n",
    "\n",
    "plt.show()"
   ]
  },
  {
   "cell_type": "code",
   "execution_count": 42,
   "metadata": {},
   "outputs": [],
   "source": [
    "distances = []\n",
    "for i in range(0,99,1):\n",
    "    minimum = (features_df['minimum_dQ_100_10'][100] - features_df['minimum_dQ_100_10'][i])**2\n",
    "    variance = (features_df['variance_dQ_100_10'][100] - features_df['variance_dQ_100_10'][i])**2\n",
    "    skewness = (features_df['skewness_dQ_100_10'][100] - features_df['skewness_dQ_100_10'][i])**2\n",
    "    distances.append(np.sqrt(minimum+variance+skewness))\n"
   ]
  },
  {
   "cell_type": "code",
   "execution_count": 47,
   "metadata": {},
   "outputs": [
    {
     "data": {
      "text/plain": [
       "[3.3981090542918477,\n",
       " 2.7977827325081557,\n",
       " 2.823111964911307,\n",
       " 2.5817914675031295,\n",
       " 2.3133345074615606,\n",
       " 1.546763440767098,\n",
       " 2.9290311375207865,\n",
       " 2.6625281591777386,\n",
       " 2.7919555913137546,\n",
       " 2.93921052672472,\n",
       " 2.2182666138821996,\n",
       " 2.7625791658516357,\n",
       " 1.1950540943150418,\n",
       " 2.3948673202101234,\n",
       " 2.0579775773737703,\n",
       " 2.9163709446505472,\n",
       " 3.377856126254015,\n",
       " 2.975404208854477,\n",
       " 1.6161238555230988,\n",
       " 2.553185867854492,\n",
       " 2.5256327486989423,\n",
       " 2.0929882707081044,\n",
       " 2.613981164816532,\n",
       " 2.0743694066776954,\n",
       " 2.0816517200362483,\n",
       " 2.6754804369699556,\n",
       " 1.998568713516089,\n",
       " 2.437929915865381,\n",
       " 2.128588449049233,\n",
       " 2.00023747576871,\n",
       " 1.9503666074536241,\n",
       " 2.1706030639988594,\n",
       " 2.6911119353264974,\n",
       " 2.5941520930082285,\n",
       " 2.75707149456047,\n",
       " 1.975732126371517,\n",
       " 3.629584368149351,\n",
       " 4.775654571018215,\n",
       " 2.699379185102401,\n",
       " 2.9591726819182624,\n",
       " 2.8840101040410526,\n",
       " 5.110014354897639,\n",
       " 5.391241416744875,\n",
       " 2.3358348149490213,\n",
       " 4.561828305867941,\n",
       " 3.388792649628912,\n",
       " 2.445078539597555,\n",
       " 3.9619028188063816,\n",
       " 2.6811990940784924,\n",
       " 2.899928472394755,\n",
       " 3.684272289013726,\n",
       " 3.135675131663968,\n",
       " 2.7274973222971446,\n",
       " 2.8152888571347057,\n",
       " 2.7779262652704233,\n",
       " 2.7547856915222715,\n",
       " 3.1369919837416234,\n",
       " 2.9114461276678507,\n",
       " 2.4677668122889123,\n",
       " 2.709621338602531,\n",
       " 4.008440534649769,\n",
       " 2.3244539212608117,\n",
       " 2.4435066698705588,\n",
       " 1.8216490445525109,\n",
       " 1.968971300971061,\n",
       " 3.0895385561071493,\n",
       " 2.01349208718867,\n",
       " 1.794972153381932,\n",
       " 2.4900623030793296,\n",
       " 2.5831475387795244,\n",
       " 2.7476772068114887,\n",
       " 3.1103970573604864,\n",
       " 3.3184524794686836,\n",
       " 2.6801135016189663,\n",
       " 2.3266033969975926,\n",
       " 3.093968007608948,\n",
       " 2.3904330331283905,\n",
       " 2.6591813680915743,\n",
       " 2.466652768339937,\n",
       " 2.921930263422111,\n",
       " 2.9757614847797655,\n",
       " 2.5370599534718257,\n",
       " 2.8088483591267566,\n",
       " 2.3470838132570977,\n",
       " 1.7247446907307291,\n",
       " 2.043607576335973,\n",
       " 2.6837108405986467,\n",
       " 2.483211581779366,\n",
       " 1.6813523349161779,\n",
       " 3.4995537627749376,\n",
       " 2.1742608166851363,\n",
       " 1.893117193668832,\n",
       " 1.1232223203667164,\n",
       " 1.84272767369203,\n",
       " 1.8604136503013473,\n",
       " 2.1341517834075563,\n",
       " 2.082503570752075,\n",
       " 1.9480650923835614,\n",
       " 1.7037897859074242]"
      ]
     },
     "execution_count": 47,
     "metadata": {},
     "output_type": "execute_result"
    }
   ],
   "source": [
    "distances"
   ]
  },
  {
   "cell_type": "code",
   "execution_count": 52,
   "metadata": {},
   "outputs": [],
   "source": [
    "euclidean_distances = pd.DataFrame(distances, columns=['distance'])"
   ]
  },
  {
   "cell_type": "code",
   "execution_count": 68,
   "metadata": {},
   "outputs": [],
   "source": [
    "three_most_similar_cells = euclidean_distances.nsmallest(5, 'distance')"
   ]
  },
  {
   "cell_type": "code",
   "execution_count": 69,
   "metadata": {},
   "outputs": [
    {
     "data": {
      "text/html": [
       "<div>\n",
       "<style scoped>\n",
       "    .dataframe tbody tr th:only-of-type {\n",
       "        vertical-align: middle;\n",
       "    }\n",
       "\n",
       "    .dataframe tbody tr th {\n",
       "        vertical-align: top;\n",
       "    }\n",
       "\n",
       "    .dataframe thead th {\n",
       "        text-align: right;\n",
       "    }\n",
       "</style>\n",
       "<table border=\"1\" class=\"dataframe\">\n",
       "  <thead>\n",
       "    <tr style=\"text-align: right;\">\n",
       "      <th></th>\n",
       "      <th>distance</th>\n",
       "    </tr>\n",
       "  </thead>\n",
       "  <tbody>\n",
       "    <tr>\n",
       "      <th>92</th>\n",
       "      <td>1.123222</td>\n",
       "    </tr>\n",
       "    <tr>\n",
       "      <th>12</th>\n",
       "      <td>1.195054</td>\n",
       "    </tr>\n",
       "    <tr>\n",
       "      <th>5</th>\n",
       "      <td>1.546763</td>\n",
       "    </tr>\n",
       "    <tr>\n",
       "      <th>18</th>\n",
       "      <td>1.616124</td>\n",
       "    </tr>\n",
       "    <tr>\n",
       "      <th>88</th>\n",
       "      <td>1.681352</td>\n",
       "    </tr>\n",
       "  </tbody>\n",
       "</table>\n",
       "</div>"
      ],
      "text/plain": [
       "    distance\n",
       "92  1.123222\n",
       "12  1.195054\n",
       "5   1.546763\n",
       "18  1.616124\n",
       "88  1.681352"
      ]
     },
     "execution_count": 69,
     "metadata": {},
     "output_type": "execute_result"
    }
   ],
   "source": [
    "three_most_similar_cells"
   ]
  },
  {
   "cell_type": "markdown",
   "metadata": {},
   "source": [
    "# Figure 4"
   ]
  },
  {
   "cell_type": "code",
   "execution_count": null,
   "metadata": {},
   "outputs": [],
   "source": []
  }
 ],
 "metadata": {
  "kernelspec": {
   "display_name": "Python 3.7.10 ('battery_project')",
   "language": "python",
   "name": "python3"
  },
  "language_info": {
   "codemirror_mode": {
    "name": "ipython",
    "version": 3
   },
   "file_extension": ".py",
   "mimetype": "text/x-python",
   "name": "python",
   "nbconvert_exporter": "python",
   "pygments_lexer": "ipython3",
   "version": "3.7.10"
  },
  "orig_nbformat": 4,
  "vscode": {
   "interpreter": {
    "hash": "0569d64c7ba9e123a6fc6711c8af2d26d25d2ca53ab7cd25d4f288c4d0f05c5a"
   }
  }
 },
 "nbformat": 4,
 "nbformat_minor": 2
}
